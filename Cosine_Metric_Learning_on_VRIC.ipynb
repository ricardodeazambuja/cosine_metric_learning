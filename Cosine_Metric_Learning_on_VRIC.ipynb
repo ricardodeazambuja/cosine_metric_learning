{
  "nbformat": 4,
  "nbformat_minor": 0,
  "metadata": {
    "colab": {
      "name": "Cosine Metric Learning on VRIC.ipynb",
      "provenance": [],
      "collapsed_sections": [],
      "mount_file_id": "1zeMktg6iYnkjn4pBS9No-2usqaMXjFKk",
      "authorship_tag": "ABX9TyP/KLImbp7rlkYc0kNlkpQ7",
      "include_colab_link": true
    },
    "kernelspec": {
      "name": "python3",
      "display_name": "Python 3"
    },
    "language_info": {
      "name": "python"
    },
    "accelerator": "GPU"
  },
  "cells": [
    {
      "cell_type": "markdown",
      "metadata": {
        "id": "view-in-github",
        "colab_type": "text"
      },
      "source": [
        "<a href=\"https://colab.research.google.com/github/ricardodeazambuja/cosine_metric_learning/blob/master/Cosine_Metric_Learning_on_VRIC.ipynb\" target=\"_parent\"><img src=\"https://colab.research.google.com/assets/colab-badge.svg\" alt=\"Open In Colab\"/></a>"
      ]
    },
    {
      "cell_type": "markdown",
      "metadata": {
        "id": "eqJcbE-Ui3Uo"
      },
      "source": [
        "# This is a hack that I put together to train on the [VRIC dataset (CARS!)](https://qmul-vric.github.io/index.html) trying to reuse the code that trains on the [MARS dataset (PEOPLE!)](https://www.kaggle.com/twoboysandhats/mars-motion-analysis-and-reidentification-set)."
      ]
    },
    {
      "cell_type": "code",
      "metadata": {
        "id": "8PVUrNHjnR1U"
      },
      "source": [
        "!git clone https://github.com/ricardodeazambuja/cosine_metric_learning.git"
      ],
      "execution_count": null,
      "outputs": []
    },
    {
      "cell_type": "code",
      "metadata": {
        "id": "Td5i9OQ0iW9D"
      },
      "source": [
        "ls"
      ],
      "execution_count": null,
      "outputs": []
    },
    {
      "cell_type": "code",
      "metadata": {
        "id": "Zn3JqMkZiXNO"
      },
      "source": [
        "# Download VRIC dataset\n",
        "!gdown \"https://drive.google.com/uc?export=download&confirm=ukqe&id=1tR5K40bqpT6icSU7eVMqL2LGmiApZ0tD\" -O /content/vric.zip"
      ],
      "execution_count": null,
      "outputs": []
    },
    {
      "cell_type": "code",
      "metadata": {
        "id": "_Dxedi2TjOg_"
      },
      "source": [
        "!mkdir /content/cosine_metric_learning/vric"
      ],
      "execution_count": null,
      "outputs": []
    },
    {
      "cell_type": "code",
      "metadata": {
        "id": "plGUfdUqipH1"
      },
      "source": [
        "!unzip /content/vric.zip -d /content/cosine_metric_learning/vric > /dev/null 2>&1"
      ],
      "execution_count": null,
      "outputs": []
    },
    {
      "cell_type": "code",
      "metadata": {
        "id": "RSDWALJFjhxO"
      },
      "source": [
        "!cp /content/cosine_metric_learning/make_vric_as_mars.py /content/cosine_metric_learning/vric "
      ],
      "execution_count": null,
      "outputs": []
    },
    {
      "cell_type": "code",
      "metadata": {
        "id": "4KqvGGMolSZW"
      },
      "source": [
        "cd /content/cosine_metric_learning/vric"
      ],
      "execution_count": null,
      "outputs": []
    },
    {
      "cell_type": "code",
      "metadata": {
        "id": "MJyfxDh4lUDU"
      },
      "source": [
        "!rm -rf /content/cosine_metric_learning/vric/bbox_train/\n",
        "!python make_vric_as_mars.py"
      ],
      "execution_count": null,
      "outputs": []
    },
    {
      "cell_type": "code",
      "metadata": {
        "id": "qkSYdudLldYP"
      },
      "source": [
        "cd /content/cosine_metric_learning/"
      ],
      "execution_count": null,
      "outputs": []
    },
    {
      "cell_type": "code",
      "metadata": {
        "id": "Bgk6jxgbl3la"
      },
      "source": [
        "# The doesn't work on tf2.x...\n",
        "%tensorflow_version 1.x"
      ],
      "execution_count": null,
      "outputs": []
    },
    {
      "cell_type": "code",
      "metadata": {
        "id": "pFfTFUzknJFU"
      },
      "source": [
        "# just checking...\n",
        "ls /content/cosine_metric_learning/vric/bbox_train/0001"
      ],
      "execution_count": null,
      "outputs": []
    },
    {
      "cell_type": "code",
      "metadata": {
        "id": "o1ewE1ys8Obk"
      },
      "source": [
        "# Mount Google Drive:\n",
        "from google.colab import drive\n",
        "drive.mount('/content/drive')"
      ],
      "execution_count": null,
      "outputs": []
    },
    {
      "cell_type": "markdown",
      "metadata": {
        "id": "BMZVlVZBRHdY"
      },
      "source": [
        "Open a new notebook and run (I have a directory inside my Google Drive called Checkpoints...):  \n",
        "```\n",
        "%load_ext tensorboard  \n",
        "%tensorboard --logdir '/content/drive/MyDrive/Checkpoints/vric/cosine-softmax/'\n",
        "```"
      ]
    },
    {
      "cell_type": "code",
      "metadata": {
        "id": "NCp7eXUGjAvm"
      },
      "source": [
        "%%bash\n",
        "python train_vric.py \\\n",
        "    --dataset_dir=./vric/ \\\n",
        "    --loss_mode=cosine-softmax \\\n",
        "    --log_dir=/content/drive/MyDrive/Checkpoints/vric/ \\\n",
        "    --run_id=cosine-softmax"
      ],
      "execution_count": null,
      "outputs": []
    },
    {
      "cell_type": "code",
      "metadata": {
        "id": "W2xTuuZuRQVm"
      },
      "source": [
        "ls /content/drive/MyDrive/Checkpoints/vric/cosine-softmax/"
      ],
      "execution_count": null,
      "outputs": []
    },
    {
      "cell_type": "code",
      "metadata": {
        "id": "R3mVkg5dRW35"
      },
      "source": [
        "# Exports the model to use with deep sort (https://github.com/nwojke/deep_sort)\n",
        "!python train_vric.py --mode=freeze --restore_path=/content/drive/MyDrive/Checkpoints/vric/cosine-softmax/model.ckpt-8417"
      ],
      "execution_count": null,
      "outputs": []
    },
    {
      "cell_type": "code",
      "metadata": {
        "id": "ij5QByPNR4Zo"
      },
      "source": [
        "!cp vric.pb /content/drive/MyDrive/Checkpoints/vric/."
      ],
      "execution_count": null,
      "outputs": []
    },
    {
      "cell_type": "code",
      "metadata": {
        "id": "KDgj9JUMS5MS"
      },
      "source": [
        ""
      ],
      "execution_count": null,
      "outputs": []
    }
  ]
}